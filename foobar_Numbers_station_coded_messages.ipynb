{
 "cells": [
  {
   "cell_type": "code",
   "execution_count": 1,
   "id": "b5ac5152",
   "metadata": {},
   "outputs": [],
   "source": [
    "l=[4,3,10,2,8]"
   ]
  },
  {
   "cell_type": "code",
   "execution_count": 2,
   "id": "9ea31d42",
   "metadata": {},
   "outputs": [],
   "source": [
    "t=12"
   ]
  },
  {
   "cell_type": "code",
   "execution_count": 3,
   "id": "9c231453",
   "metadata": {},
   "outputs": [],
   "source": [
    "testcase2=[1,2,3,4]"
   ]
  },
  {
   "cell_type": "code",
   "execution_count": 3,
   "id": "61833c8d",
   "metadata": {},
   "outputs": [],
   "source": [
    "def decipher(l,t):\n",
    "    left,right=0,1\n",
    "    while left<=right and right<len(l):\n",
    "        for i in range(left,right):\n",
    "            if sum(l[i])==t:\n",
    "                return [left,right]\n",
    "            elif sum(l[i])>t:\n",
    "                l+=1\n",
    "            else:\n",
    "                r+=1\n",
    "    return [-1,-1]"
   ]
  },
  {
   "cell_type": "code",
   "execution_count": null,
   "id": "6e19a0ca",
   "metadata": {},
   "outputs": [],
   "source": [
    "result=decipher(l,t)"
   ]
  },
  {
   "cell_type": "code",
   "execution_count": 4,
   "id": "b9856b9f",
   "metadata": {},
   "outputs": [
    {
     "name": "stdout",
     "output_type": "stream",
     "text": [
      "[4, 3, 10, 2, 8]\n"
     ]
    }
   ],
   "source": []
  },
  {
   "cell_type": "code",
   "execution_count": null,
   "id": "0176382b",
   "metadata": {},
   "outputs": [],
   "source": []
  }
 ],
 "metadata": {
  "kernelspec": {
   "display_name": "Python 3 (ipykernel)",
   "language": "python",
   "name": "python3"
  },
  "language_info": {
   "codemirror_mode": {
    "name": "ipython",
    "version": 3
   },
   "file_extension": ".py",
   "mimetype": "text/x-python",
   "name": "python",
   "nbconvert_exporter": "python",
   "pygments_lexer": "ipython3",
   "version": "3.11.3"
  }
 },
 "nbformat": 4,
 "nbformat_minor": 5
}
