{
 "cells": [
  {
   "cell_type": "markdown",
   "id": "989dd200",
   "metadata": {},
   "source": [
    "Numbers Station Coded Messages\n",
    "==============================\n",
    "When you went undercover in Commander Lambda's organization, you set up a coded messaging system with Bunny Headquarters to allow them to send you important mission updates. Now that you're here and promoted to Henchman, you need to make sure you can receive those messages -- but since you need to sneak them past Commander Lambda's spies, it won't be easy!\n",
    "Given a non-empty list of positive integers l and a target positive integer t, write a function answer(l, t) which verifies if there is at least one consecutive sequence of positive integers within the list l (i.e. a contiguous sub-list) that can be summed up to the given target positive integer t (the key) and returns the lexicographically smallest list containing the smallest start and end indexes where this sequence can be found, or returns the array [-1, -1] in the case that there is no such sequence (to throw off Lambda's spies, not all number broadcasts will contain a coded message).\n",
    "\n",
    "Bunny HQ has secretly taken control of two of the galaxy's more obscure numbers stations, and will use them to broadcast lists of numbers. They've given you a numerical key, and their messages will be encrypted within the first sequence of numbers that adds up to that key within any given list of numbers.\n",
    "Given a non-empty list of positive integers l and a target positive integer t, write a function solution(l, t) which verifies if there is at least one consecutive sequence of positive integers within the list l (i.e. a contiguous sub-list) that can be summed up to the given target positive integer t (the key) and returns the lexicographically smallest list containing the smallest start and end indexes where this sequence can be found, or returns the array [-1, -1] in the case that there is no such sequence (to throw off Lambda's spies, not all number broadcasts will contain a coded message).\n",
    "\n",
    "For example, given the broadcast list l as [4, 3, 5, 7, 8] and the key t as 12, the function answer(l, t) would return the list [0, 2] because the list l contains the sub-list [4, 3, 5] starting at index 0 and ending at index 2, for which 4 + 3 + 5 = 12, even though there is a shorter sequence that happens later in the list (5 + 7). On the other hand, given the list l as [1, 2, 3, 4] and the key t as 15, the function answer(l, t) would return [-1, -1] because there is no sub-list of list l that can be summed up to the given target value t = 15. To help you identify the coded broadcasts, Bunny HQ has agreed to the following standards:\n",
    "\n",
    "Each list l will contain at least 1 element but never more than 100.\n",
    "Each element of l will be between 1 and 100.\n",
    "t will be a positive integer, not exceeding 250.\n",
    "The first element of the list l has index 0.\n",
    "For the list returned by answer(l, t), the start index must be equal or smaller than the end index.\n",
    "Remember, to throw off Lambda's spies, Bunny HQ might include more than one contiguous sublist of a number broadcast that can be summed up to the key. You know that the message will always be hidden in the first sublist that sums up to the key, so answer(l, t) should only return that sublist.\n",
    "\n",
    "Tests\n",
    "The challenge also list a couple of test cases you will need to pass. However, it also indicates that there will be additional hidden tests that you need to pass. But you may not know what those test are about. Nice, uh?\n",
    "\n",
    "## Test cases\n",
    "\n",
    "Your code should pass the following test cases.\n",
    "Note that it may also be run against hidden test cases not shown here.\n",
    "\n",
    "-- Python cases --\n",
    "\n",
    "Input:\n",
    "\n",
    "solution.solution([1, 2, 3, 4], 15)\n",
    "\n",
    "Output: [-1,-1]\n",
    "\n",
    "Input:\n",
    "\n",
    "solution.solution([4, 3, 10, 2, 8], 12)\n",
    "\n",
    "Output: [2,3]"
   ]
  },
  {
   "cell_type": "code",
   "execution_count": 1,
   "id": "b5ac5152",
   "metadata": {},
   "outputs": [],
   "source": [
    "l=[4,3,10,2,8]"
   ]
  },
  {
   "cell_type": "code",
   "execution_count": 2,
   "id": "9ea31d42",
   "metadata": {},
   "outputs": [],
   "source": [
    "t=12"
   ]
  },
  {
   "cell_type": "code",
   "execution_count": 3,
   "id": "9c231453",
   "metadata": {},
   "outputs": [],
   "source": [
    "testcase2=[1,2,3,4]"
   ]
  },
  {
   "cell_type": "code",
   "execution_count": 3,
   "id": "61833c8d",
   "metadata": {},
   "outputs": [],
   "source": [
    "def decipher(l,t):\n",
    "    left,right=0,1\n",
    "    while left<=right and right<len(l):\n",
    "        for i in range(left,right):\n",
    "            if sum(l[i])==t:\n",
    "                return [left,right]\n",
    "            elif sum(l[i])>t:\n",
    "                l+=1\n",
    "            else:\n",
    "                r+=1\n",
    "    return [-1,-1]"
   ]
  },
  {
   "cell_type": "code",
   "execution_count": null,
   "id": "6e19a0ca",
   "metadata": {},
   "outputs": [],
   "source": [
    "result=decipher(l,t)"
   ]
  },
  {
   "cell_type": "code",
   "execution_count": 4,
   "id": "b9856b9f",
   "metadata": {},
   "outputs": [
    {
     "name": "stdout",
     "output_type": "stream",
     "text": [
      "[4, 3, 10, 2, 8]\n"
     ]
    }
   ],
   "source": []
  },
  {
   "cell_type": "code",
   "execution_count": null,
   "id": "0176382b",
   "metadata": {},
   "outputs": [],
   "source": []
  }
 ],
 "metadata": {
  "kernelspec": {
   "display_name": "Python 3 (ipykernel)",
   "language": "python",
   "name": "python3"
  },
  "language_info": {
   "codemirror_mode": {
    "name": "ipython",
    "version": 3
   },
   "file_extension": ".py",
   "mimetype": "text/x-python",
   "name": "python",
   "nbconvert_exporter": "python",
   "pygments_lexer": "ipython3",
   "version": "3.11.3"
  }
 },
 "nbformat": 4,
 "nbformat_minor": 5
}
