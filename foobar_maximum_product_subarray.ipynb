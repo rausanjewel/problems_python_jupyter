{
 "cells": [
  {
   "cell_type": "markdown",
   "id": "019aa405",
   "metadata": {},
   "source": [
    "# Maximum Product Subarry\n",
    "\n",
    "Power Hungry\n",
    "============\n",
    "\n",
    "Commander Lambda's space station is HUGE. And huge space stations take a LOT of power. Huge space stations with doomsday devices take even more power. To help meet the station's power needs, Commander Lambda has installed solar panels on the station's outer surface. But the station sits in the middle of a quasar quantum flux field, which wreaks havoc on the solar panels. You and your team of henchmen has been assigned to repair the solar panels, but you can't take them all down at once without shutting down the space station (and all those pesky life support systems!).\n",
    "\n",
    "You need to figure out which sets of panels in any given array you can take offline to repair while still maintaining the maximum amount of power output per array, and to THAT, you'll first need to figure out what the maximum output of each array actually is. Write a function answer(xs) that takes a list of integers representing the power output levels of each panel in an array, and returns the maximum product of some non-empty subset of those numbers. So for example, if an array contained panels with power output levels of [2,-3,2,0,-5], then the maximum product would be found by taking the subset: xs[0]=2, sx[1]=-3, xs[4]=-5, giving the product 2\\*(-3)\\*(-5). So answer ([2,-3,1,0,-5]) will be \"30\".\n",
    "\n",
    "Each array of solar panels contains at least 1 and no more than 50 panels, and each panel will have a power output level whose absolute value is no greater than 1000 (some panels are malfunctioning so badly that they're draining energy, but you know a trick with the panels' wave stabilizer that lets you combine two negative-output panels to produce the positive output of the multiple of their power values). The final products may be very large, so give the answer as a string representation of the number.\n",
    "\n",
    "\n",
    "Test Cases:\n",
    "=========\n",
    "\n",
    "Inputs: (int list)  xs=[2,0,2,2,0] \n",
    "\n",
    "Output: (string) \"8\"\n",
    "\n",
    "Inputs: (int list)  xs=[-2,-3,4,-5]\n",
    "\n",
    "Output: (string) \"60\"\n"
   ]
  },
  {
   "cell_type": "code",
   "execution_count": 53,
   "id": "fa55488e",
   "metadata": {},
   "outputs": [],
   "source": [
    "xs=[-2,-3,4,-5]"
   ]
  },
  {
   "cell_type": "code",
   "execution_count": 60,
   "id": "edf326ec",
   "metadata": {},
   "outputs": [],
   "source": [
    "def answer(xs):\n",
    "    product=1\n",
    "    xs.sort()\n",
    "    arrOfProduct=[]\n",
    "    for i in range(len(xs)):\n",
    "        if xs[i]==0:\n",
    "            continue\n",
    "        product*=xs[i]\n",
    "        arrOfProduct.append(str(product))\n",
    "    return arrOfProduct"
   ]
  },
  {
   "cell_type": "code",
   "execution_count": 61,
   "id": "7140ae04",
   "metadata": {
    "scrolled": true
   },
   "outputs": [
    {
     "data": {
      "text/plain": [
       "['-5', '15', '-30', '-120']"
      ]
     },
     "execution_count": 61,
     "metadata": {},
     "output_type": "execute_result"
    }
   ],
   "source": [
    "answer(xs)"
   ]
  }
 ],
 "metadata": {
  "kernelspec": {
   "display_name": "Python 3 (ipykernel)",
   "language": "python",
   "name": "python3"
  },
  "language_info": {
   "codemirror_mode": {
    "name": "ipython",
    "version": 3
   },
   "file_extension": ".py",
   "mimetype": "text/x-python",
   "name": "python",
   "nbconvert_exporter": "python",
   "pygments_lexer": "ipython3",
   "version": "3.11.3"
  }
 },
 "nbformat": 4,
 "nbformat_minor": 5
}
