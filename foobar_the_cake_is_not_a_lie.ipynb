{
 "cells": [
  {
   "cell_type": "markdown",
   "id": "f7a1eb03",
   "metadata": {},
   "source": [
    "# The cake is not a lie\n",
    "\n",
    "Commander Lambda has had an incredibly successful week: she completed the first test run of her LAMBCHOP doomsday device, she captured six key members of the Bunny Rebellion, and she beat her personal high score in Tetris. To celebrate, she's ordered cake for everyone - even the lowliest of minions! But competition among minions is fierce, and if you don't cut exactly equal slices of cake for everyone, you'll get in big trouble.\n",
    "\n",
    "The cake is round, and decorated with M&Ms in a circle around the edge. But while the rest of the cake is uniform, the M&Ms are not: there are multiple colors, and every minion must get exactly the same sequence of M&Ms. Commander Lambda hates waste and will not tolerate any leftovers, so you also want to make sure you can serve the entire cake.\n",
    "\n",
    "To help you best cut the cake, you have turned the sequence of colors of the M&Ms on the cake into a string: each possible letter (between a and z) corresponds to a unique color, and the sequence of M&Ms is given clockwise (the decorations form a circle around the outer edge of the cake).\n",
    "\n",
    "Write a function called answer(s) that, given a non-empty string less than 200 characters in length describing the sequence of M&Ms, returns the maximum number of equal parts that can be cut from the cake without leaving any leftovers.\n",
    "\n"
   ]
  },
  {
   "cell_type": "code",
   "execution_count": 1,
   "id": "c2816ffc",
   "metadata": {},
   "outputs": [],
   "source": [
    "testcase1=\"abccbaabccba\""
   ]
  },
  {
   "cell_type": "code",
   "execution_count": 2,
   "id": "bfcdec38",
   "metadata": {},
   "outputs": [],
   "source": [
    "testcase2=\"abcabcabcabc\""
   ]
  },
  {
   "cell_type": "code",
   "execution_count": 3,
   "id": "d10c26cc",
   "metadata": {},
   "outputs": [],
   "source": [
    "def noOfSclices(test):\n",
    "    n=len(test)\n",
    "    for i in range(1,(n//2)+1):\n",
    "        prefix=test[:i]\n",
    "        if n%i==0:\n",
    "            if test==prefix*(n//i):\n",
    "                return n//i\n",
    "    return 1\n",
    "        "
   ]
  },
  {
   "cell_type": "code",
   "execution_count": 4,
   "id": "e9aef7c3",
   "metadata": {},
   "outputs": [
    {
     "data": {
      "text/plain": [
       "2"
      ]
     },
     "execution_count": 4,
     "metadata": {},
     "output_type": "execute_result"
    }
   ],
   "source": [
    "noOfSclices(testcase1)"
   ]
  },
  {
   "cell_type": "code",
   "execution_count": 5,
   "id": "c427cece",
   "metadata": {},
   "outputs": [
    {
     "data": {
      "text/plain": [
       "4"
      ]
     },
     "execution_count": 5,
     "metadata": {},
     "output_type": "execute_result"
    }
   ],
   "source": [
    "noOfSclices(testcase2)"
   ]
  }
 ],
 "metadata": {
  "kernelspec": {
   "display_name": "Python 3 (ipykernel)",
   "language": "python",
   "name": "python3"
  },
  "language_info": {
   "codemirror_mode": {
    "name": "ipython",
    "version": 3
   },
   "file_extension": ".py",
   "mimetype": "text/x-python",
   "name": "python",
   "nbconvert_exporter": "python",
   "pygments_lexer": "ipython3",
   "version": "3.11.3"
  }
 },
 "nbformat": 4,
 "nbformat_minor": 5
}
