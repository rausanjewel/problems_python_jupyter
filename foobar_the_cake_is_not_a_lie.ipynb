{
 "cells": [
  {
   "cell_type": "markdown",
   "id": "f7a1eb03",
   "metadata": {},
   "source": [
    "# The cake is not a lie\n",
    "\n"
   ]
  },
  {
   "cell_type": "code",
   "execution_count": 1,
   "id": "c2816ffc",
   "metadata": {},
   "outputs": [],
   "source": [
    "testcase1=\"abccbaabccba\""
   ]
  },
  {
   "cell_type": "code",
   "execution_count": 2,
   "id": "bfcdec38",
   "metadata": {},
   "outputs": [],
   "source": [
    "testcase2=\"abcabcabcabc\""
   ]
  },
  {
   "cell_type": "code",
   "execution_count": 3,
   "id": "d10c26cc",
   "metadata": {},
   "outputs": [],
   "source": [
    "def noOfSclices(test):\n",
    "    n=len(test)\n",
    "    for i in range(1,(n//2)+1):\n",
    "        prefix=test[:i]\n",
    "        if n%i==0:\n",
    "            if test==prefix*(n//i):\n",
    "                return n//i\n",
    "    return 1\n",
    "        "
   ]
  },
  {
   "cell_type": "code",
   "execution_count": 4,
   "id": "e9aef7c3",
   "metadata": {},
   "outputs": [
    {
     "data": {
      "text/plain": [
       "2"
      ]
     },
     "execution_count": 4,
     "metadata": {},
     "output_type": "execute_result"
    }
   ],
   "source": [
    "noOfSclices(testcase1)"
   ]
  },
  {
   "cell_type": "code",
   "execution_count": 5,
   "id": "c427cece",
   "metadata": {},
   "outputs": [
    {
     "data": {
      "text/plain": [
       "4"
      ]
     },
     "execution_count": 5,
     "metadata": {},
     "output_type": "execute_result"
    }
   ],
   "source": [
    "noOfSclices(testcase2)"
   ]
  }
 ],
 "metadata": {
  "kernelspec": {
   "display_name": "Python 3 (ipykernel)",
   "language": "python",
   "name": "python3"
  },
  "language_info": {
   "codemirror_mode": {
    "name": "ipython",
    "version": 3
   },
   "file_extension": ".py",
   "mimetype": "text/x-python",
   "name": "python",
   "nbconvert_exporter": "python",
   "pygments_lexer": "ipython3",
   "version": "3.11.3"
  }
 },
 "nbformat": 4,
 "nbformat_minor": 5
}
