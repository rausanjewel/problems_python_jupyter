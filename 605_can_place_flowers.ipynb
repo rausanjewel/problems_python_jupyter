{
 "cells": [
  {
   "cell_type": "markdown",
   "id": "4bd7a3ed",
   "metadata": {},
   "source": [
    "# 605. Can Place Flowers"
   ]
  },
  {
   "cell_type": "code",
   "execution_count": 113,
   "id": "46301f66",
   "metadata": {},
   "outputs": [],
   "source": [
    "flowerbed = [1,0,0,0,1]"
   ]
  },
  {
   "cell_type": "code",
   "execution_count": 114,
   "id": "38311857",
   "metadata": {},
   "outputs": [],
   "source": [
    "n = 1"
   ]
  },
  {
   "cell_type": "code",
   "execution_count": 109,
   "id": "e263177b",
   "metadata": {},
   "outputs": [],
   "source": [
    "flowerbed = [0,0,1,0,0]"
   ]
  },
  {
   "cell_type": "code",
   "execution_count": 102,
   "id": "36fa61a4",
   "metadata": {},
   "outputs": [],
   "source": [
    "n = 2"
   ]
  },
  {
   "cell_type": "code",
   "execution_count": 110,
   "id": "9a6f06d6",
   "metadata": {},
   "outputs": [],
   "source": [
    "def canPlaceFlowers(flowerbed,n):\n",
    "    ptr=1\n",
    "    plantable=0\n",
    "    if len(flowerbed)==1 and flowerbed[0]==0:\n",
    "        plantable+=1\n",
    "    else:\n",
    "        if flowerbed[0]==0 and flowerbed[1]==0:\n",
    "            flowerbed[0]=1\n",
    "            plantable+=1\n",
    "        if flowerbed[-1]==0 and flowerbed[-2]==0:\n",
    "            flowerbed[-1]=1\n",
    "            plantable+=1\n",
    "    while ptr<len(flowerbed)-1:\n",
    "        if flowerbed[ptr]==0 and flowerbed[ptr+1]==0 and flowerbed[ptr-1]==0:\n",
    "            flowerbed[ptr]=1\n",
    "            plantable+=1\n",
    "        ptr+=1\n",
    "    return plantable"
   ]
  },
  {
   "cell_type": "code",
   "execution_count": 104,
   "id": "98f04137",
   "metadata": {},
   "outputs": [
    {
     "data": {
      "text/plain": [
       "1"
      ]
     },
     "execution_count": 104,
     "metadata": {},
     "output_type": "execute_result"
    }
   ],
   "source": [
    "canPlaceFlowers(flowerbed,n)"
   ]
  },
  {
   "cell_type": "code",
   "execution_count": 115,
   "id": "7ce22e9e",
   "metadata": {},
   "outputs": [],
   "source": [
    "def canPlaceFlowers(flowerbed,n):\n",
    "    plantable=0\n",
    "    for i in range(len(flowerbed)):\n",
    "        if flowerbed[i]==0:\n",
    "            leftEmpty=(i==0) or flowerbed[i-1]==0\n",
    "            rightEmpty=(i==len(flowerbed)-1) or flowerbed[i+1]==0\n",
    "            if leftEmpty and rightEmpty:\n",
    "                flowerbed[i]=1\n",
    "                plantable+=1\n",
    "    return plantable                "
   ]
  },
  {
   "cell_type": "code",
   "execution_count": 116,
   "id": "8957fd92",
   "metadata": {},
   "outputs": [
    {
     "data": {
      "text/plain": [
       "1"
      ]
     },
     "execution_count": 116,
     "metadata": {},
     "output_type": "execute_result"
    }
   ],
   "source": [
    "canPlaceFlowers(flowerbed,n)"
   ]
  }
 ],
 "metadata": {
  "kernelspec": {
   "display_name": "Python 3 (ipykernel)",
   "language": "python",
   "name": "python3"
  },
  "language_info": {
   "codemirror_mode": {
    "name": "ipython",
    "version": 3
   },
   "file_extension": ".py",
   "mimetype": "text/x-python",
   "name": "python",
   "nbconvert_exporter": "python",
   "pygments_lexer": "ipython3",
   "version": "3.11.4"
  }
 },
 "nbformat": 4,
 "nbformat_minor": 5
}
