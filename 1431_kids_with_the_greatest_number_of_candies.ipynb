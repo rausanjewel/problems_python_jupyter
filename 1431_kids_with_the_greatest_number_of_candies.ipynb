{
 "cells": [
  {
   "cell_type": "markdown",
   "id": "2d940649",
   "metadata": {},
   "source": [
    "# 1431. Kids With the Greatest Number of Candies"
   ]
  },
  {
   "cell_type": "code",
   "execution_count": 1,
   "id": "a0f734d8",
   "metadata": {},
   "outputs": [],
   "source": [
    "candies = [2,3,5,1,3]"
   ]
  },
  {
   "cell_type": "code",
   "execution_count": 2,
   "id": "14ea11ff",
   "metadata": {},
   "outputs": [],
   "source": [
    "extraCandies = 3"
   ]
  },
  {
   "cell_type": "code",
   "execution_count": 33,
   "id": "803c4c9b",
   "metadata": {},
   "outputs": [],
   "source": [
    "def kidsWithCandies(candies, extraCandies):\n",
    "    withExtraCandies=[]\n",
    "    candiesMax=max(candies)\n",
    "    for i in candies:\n",
    "        withExtra=i+extraCandies\n",
    "        if withExtra>=candiesMax:\n",
    "            withExtraCandies.append(bool(1))\n",
    "        else:\n",
    "            withExtraCandies.append(bool(0))\n",
    "    return withExtraCandies"
   ]
  },
  {
   "cell_type": "code",
   "execution_count": 34,
   "id": "39691fed",
   "metadata": {},
   "outputs": [
    {
     "data": {
      "text/plain": [
       "[True, True, True, False, True]"
      ]
     },
     "execution_count": 34,
     "metadata": {},
     "output_type": "execute_result"
    }
   ],
   "source": [
    "kidsWithCandies(candies, extraCandies)"
   ]
  }
 ],
 "metadata": {
  "kernelspec": {
   "display_name": "Python 3 (ipykernel)",
   "language": "python",
   "name": "python3"
  },
  "language_info": {
   "codemirror_mode": {
    "name": "ipython",
    "version": 3
   },
   "file_extension": ".py",
   "mimetype": "text/x-python",
   "name": "python",
   "nbconvert_exporter": "python",
   "pygments_lexer": "ipython3",
   "version": "3.11.3"
  }
 },
 "nbformat": 4,
 "nbformat_minor": 5
}
