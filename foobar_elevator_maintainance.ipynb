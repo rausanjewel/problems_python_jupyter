{
 "cells": [
  {
   "cell_type": "markdown",
   "id": "a71c51cb",
   "metadata": {},
   "source": [
    "Elevator Maintenance\n",
    "====================\n",
    "You've been assigned the onerous task of elevator maintenance -- ugh! It wouldn't be so bad, except that all the elevator documentation has been lying in a disorganized pile at the bottom of a filing cabinet for years, and you don't even know what elevator version numbers you'll be working on.\n",
    "\n",
    "Elevator versions are represented by a series of numbers, divided up into major, minor and revision integers. New versions of an elevator increase the major number, e.g. 1, 2, 3, and so on. When new features are added to an elevator without being a complete new version, a second number named \"minor\" can be used to represent those new additions, e.g. 1.0, 1.1, 1.2, etc. Small fixes or maintenance work can be represented by a third number named \"revision\", e.g. 1.1.1, 1.1.2, 1.2.0, and so on. The number zero can be used as a major for pre-release versions of elevators, e.g. 0.1, 0.5, 0.9.2, etc (Commander Lambda is careful to always beta test her new technology, with her loyal henchmen as subjects!).\n",
    "\n",
    "Given a list of elevator versions represented as strings, write a function solution(l) that returns the same list sorted in ascending order by major, minor, and revision number so that you can identify the current elevator version. The versions in list l will always contain major numbers, but minor and revision numbers are optional. If the version contains a revision number, then it will also have a minor number.\n",
    "\n",
    "For example, given the list l as [\"1.1.2\", \"1.0\", \"1.3.3\", \"1.0.12\", \"1.0.2\"], the function solution(l) would return the list [\"1.0\", \"1.0.2\", \"1.0.12\", \"1.1.2\", \"1.3.3\"]. If two or more versions are equivalent but one version contains more numbers than the others, then these versions must be sorted ascending based on how many numbers they have, e.g [\"1\", \"1.0\", \"1.0.0\"]. The number of elements in the list l will be at least 1 and will not exceed 100."
   ]
  },
  {
   "cell_type": "code",
   "execution_count": 1,
   "id": "aed85eda",
   "metadata": {},
   "outputs": [],
   "source": [
    "testcase1=[\"1.11\", \"2.0.0\", \"1.2\", \"2\", \"0.1\", \"1.2.1\", \"1.1.1\", \"2.0\"]"
   ]
  },
  {
   "cell_type": "code",
   "execution_count": 2,
   "id": "681aa0d5",
   "metadata": {},
   "outputs": [],
   "source": [
    "testcase2=[\"1.1.2\", \"1.0\", \"1.3.3\", \"1.0.12\", \"1.0.2\"]"
   ]
  },
  {
   "cell_type": "code",
   "execution_count": 3,
   "id": "1fdf43f4",
   "metadata": {},
   "outputs": [],
   "source": [
    "def solution(l):\n",
    "    #A straight sort operation cannot sort between 1.11 and\n",
    "    #1.2, therefore it is required to convert the strings\n",
    "    #into integers and sort them. Creating number of new\n",
    "    #arrays takes more memory, more intuative solution will\n",
    "    #require another method to compare the integer values.\n",
    "    \n",
    "    def str2Int(str):\n",
    "        arr=str.split(\".\")\n",
    "        version=[]\n",
    "        for i in arr:\n",
    "            version.append(int(i))   \n",
    "        return version\n",
    "    \n",
    "    arrOfVersion=[]\n",
    "    result=[]\n",
    "    for i in l:\n",
    "        arrOfVersion.append(str2Int(i))\n",
    "    arrOfVersion.sort()\n",
    "    for i in range(len(arrOfVersion)):\n",
    "        result.append(\".\".join(map(str,arrOfVersion[i])))\n",
    "    return result"
   ]
  },
  {
   "cell_type": "code",
   "execution_count": 4,
   "id": "82c1880a",
   "metadata": {},
   "outputs": [
    {
     "data": {
      "text/plain": [
       "['0.1', '1.1.1', '1.2', '1.2.1', '1.11', '2', '2.0', '2.0.0']"
      ]
     },
     "execution_count": 4,
     "metadata": {},
     "output_type": "execute_result"
    }
   ],
   "source": [
    "solution(testcase1)"
   ]
  },
  {
   "cell_type": "code",
   "execution_count": 5,
   "id": "744f7538",
   "metadata": {},
   "outputs": [
    {
     "data": {
      "text/plain": [
       "['1.0', '1.0.2', '1.0.12', '1.1.2', '1.3.3']"
      ]
     },
     "execution_count": 5,
     "metadata": {},
     "output_type": "execute_result"
    }
   ],
   "source": [
    "solution(testcase2)"
   ]
  },
  {
   "cell_type": "markdown",
   "id": "9b3c1938",
   "metadata": {},
   "source": [
    "Collected Intuitive solution with class declearation"
   ]
  },
  {
   "cell_type": "code",
   "execution_count": null,
   "id": "5c447548",
   "metadata": {},
   "outputs": [],
   "source": [
    "class Elevator:\n",
    "    def __init__(self, elevator):\n",
    "        div = list(map(int, elevator.strip().split('.')))\n",
    "        self.str = elevator\n",
    "        self.major = div[0]\n",
    "        self.minor = div[1] if len(div) > 1 else -1\n",
    "        self.revision = div[2] if len(div) > 2 else -1\n",
    "        \n",
    "    def __lt__(self, other):\n",
    "        if self.major < other.major: return True\n",
    "        if self.major > other.major: return False\n",
    "        if self.minor < other.minor: return True\n",
    "        if self.minor > other.minor: return False\n",
    "        if self.revision < other.revision: return True\n",
    "        if self.revision > other.revision: return False\n",
    "\n",
    "def solution(l):\n",
    "    els = []\n",
    "    for elevator in l:\n",
    "        els.append(Elevator(elevator))\n",
    "    els.sort()\n",
    "    return [el.str for el in els]"
   ]
  }
 ],
 "metadata": {
  "kernelspec": {
   "display_name": "Python 3 (ipykernel)",
   "language": "python",
   "name": "python3"
  },
  "language_info": {
   "codemirror_mode": {
    "name": "ipython",
    "version": 3
   },
   "file_extension": ".py",
   "mimetype": "text/x-python",
   "name": "python",
   "nbconvert_exporter": "python",
   "pygments_lexer": "ipython3",
   "version": "3.11.4"
  }
 },
 "nbformat": 4,
 "nbformat_minor": 5
}
