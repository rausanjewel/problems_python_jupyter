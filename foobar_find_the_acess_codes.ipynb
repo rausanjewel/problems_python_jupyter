{
 "cells": [
  {
   "cell_type": "markdown",
   "metadata": {},
   "source": [
    "Find the Acess Codes\n",
    "====================\n",
    "\n",
    "In order to destroy Commander Lambda's LAMBCHOP doomsday device, you'll need access to it. But the only door leading to the LAMBCHOP chamber is secured with a unique lock system whose number of passcodes changes daily. Commander Lambda gets a report every day that includes the locks' access codes, but only the Commander knows how to figure out which of several lists contains the access codes. You need to find a way to determine which list contains the access codes once you're ready to go in.\n",
    "\n",
    "Fortunately, now that you're Commander Lambda's personal assistant, Lambda has confided to you that all the access codes are \"lucky triples\" in order to make it easier to find them in the lists. A \"lucky triple\" is a tuple (x, y, z) where x divides y and y divides z, such as (1, 2, 4). With that information, you can figure out which list contains the number of access codes that matches the number of locks on the door when you're ready to go in (for example, if there's 5 passcodes, you'd need to find a list with 5 \"lucky triple\" access codes).\n",
    "\n",
    "Write a function solution(l) that takes a list of positive integers l and counts the number of \"lucky triples\" of (li, lj, lk) where the list indices meet the requirement i < j < k. The length of l is between 2 and 2000 inclusive. The elements of l are between 1 and 999999 inclusive. The solution fits within a signed 32-bit integer. Some of the lists are purposely generated without any access codes to throw off spies, so if no triples are found, return 0.\n",
    "\n",
    "For example, [1, 2, 3, 4, 5, 6] has the triples: [1, 2, 4], [1, 2, 6], [1, 3, 6], making the solution 3 total.\n",
    "\n",
    "### Tests\n",
    "The challenge also list a couple of test cases you will need to pass. However, it also indicates that there will be additional hidden tests that you need to pass. But you may not know what those test are about. Nice, uh?\n",
    "\n",
    "### Test cases\n",
    "\n",
    "Your code should pass the following test cases.\n",
    "Note that it may also be run against hidden test cases not shown here.\n",
    "\n",
    "Input:\n",
    "solution.solution([1, 2, 3, 4, 5, 6])\n",
    "\n",
    "Output: 3\n",
    "\n",
    "Input:\n",
    "solution.solution([1, 1, 1])\n",
    "\n",
    "Output: 1"
   ]
  },
  {
   "cell_type": "code",
   "execution_count": null,
   "metadata": {},
   "outputs": [],
   "source": [
    "l = [1, 2, 3, 4, 5, 6]"
   ]
  },
  {
   "cell_type": "code",
   "execution_count": 214,
   "metadata": {},
   "outputs": [],
   "source": [
    "l = [1, 1, 1]"
   ]
  },
  {
   "cell_type": "code",
   "execution_count": 219,
   "metadata": {},
   "outputs": [],
   "source": [
    "l = [1,2,3,4,6,7,9,13,15,18,20,21,23,25]"
   ]
  },
  {
   "cell_type": "code",
   "execution_count": null,
   "metadata": {},
   "outputs": [],
   "source": [
    "## Brute force\n",
    "\n",
    "Find all possible couples with the smaller number dividing the larger one"
   ]
  },
  {
   "cell_type": "code",
   "execution_count": 222,
   "metadata": {},
   "outputs": [],
   "source": [
    "def answer(l):\n",
    "    doubleS=[]\n",
    "    tripleS=[]\n",
    "    counT=0\n",
    "    for i in range(0,len(l)-1):\n",
    "        for j in range(i+1,len(l)):\n",
    "            if l[j]%l[i]==0:\n",
    "                doubleS.append([l[i],l[j]])\n",
    "    for i in range(len(doubleS)-1):\n",
    "        for j in range(i+1,len(doubleS)):\n",
    "            if doubleS[i][1]==doubleS[j][0]:\n",
    "                temP=[doubleS[i][0],doubleS[i][1],doubleS[j][1]]\n",
    "                if temP not in tripleS:\n",
    "                    print(temP)\n",
    "                    tripleS.append(temP)\n",
    "                    counT+=1  \n",
    "    return counT    \n"
   ]
  },
  {
   "cell_type": "code",
   "execution_count": 223,
   "metadata": {},
   "outputs": [
    {
     "name": "stdout",
     "output_type": "stream",
     "text": [
      "[1, 2, 4]\n",
      "[1, 2, 6]\n",
      "[1, 2, 18]\n",
      "[1, 2, 20]\n",
      "[1, 3, 6]\n",
      "[1, 3, 9]\n",
      "[1, 3, 15]\n",
      "[1, 3, 18]\n",
      "[1, 3, 21]\n",
      "[1, 4, 20]\n",
      "[1, 6, 18]\n",
      "[1, 7, 21]\n",
      "[1, 9, 18]\n",
      "[2, 4, 20]\n",
      "[2, 6, 18]\n",
      "[3, 6, 18]\n",
      "[3, 9, 18]\n"
     ]
    },
    {
     "data": {
      "text/plain": [
       "17"
      ]
     },
     "execution_count": 223,
     "metadata": {},
     "output_type": "execute_result"
    }
   ],
   "source": [
    "answer(l)"
   ]
  }
 ],
 "metadata": {
  "kernelspec": {
   "display_name": "Python 3",
   "language": "python",
   "name": "python3"
  },
  "language_info": {
   "codemirror_mode": {
    "name": "ipython",
    "version": 3
   },
   "file_extension": ".py",
   "mimetype": "text/x-python",
   "name": "python",
   "nbconvert_exporter": "python",
   "pygments_lexer": "ipython3",
   "version": "3.11.4"
  },
  "orig_nbformat": 4
 },
 "nbformat": 4,
 "nbformat_minor": 2
}
