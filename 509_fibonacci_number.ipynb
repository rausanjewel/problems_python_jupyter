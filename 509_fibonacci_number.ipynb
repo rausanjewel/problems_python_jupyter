{
 "cells": [
  {
   "cell_type": "markdown",
   "id": "8a2a0eb1",
   "metadata": {},
   "source": [
    "# 509. Fibonacci Number\n"
   ]
  },
  {
   "cell_type": "markdown",
   "id": "971b7c74",
   "metadata": {},
   "source": [
    "### Recursion"
   ]
  },
  {
   "cell_type": "code",
   "execution_count": 1,
   "id": "4277f1d1",
   "metadata": {},
   "outputs": [],
   "source": [
    "x=8"
   ]
  },
  {
   "cell_type": "code",
   "execution_count": 2,
   "id": "9b1e09c9",
   "metadata": {},
   "outputs": [],
   "source": [
    "def fib(x):\n",
    "    if(x==0): \n",
    "        return 0\n",
    "    if(x==1):\n",
    "        return 1\n",
    "    return fib(x-1)+fib(x-2)"
   ]
  },
  {
   "cell_type": "code",
   "execution_count": 3,
   "id": "2a60e7e2",
   "metadata": {},
   "outputs": [
    {
     "data": {
      "text/plain": [
       "21"
      ]
     },
     "execution_count": 3,
     "metadata": {},
     "output_type": "execute_result"
    }
   ],
   "source": [
    "fib(x)"
   ]
  }
 ],
 "metadata": {
  "kernelspec": {
   "display_name": "Python 3 (ipykernel)",
   "language": "python",
   "name": "python3"
  },
  "language_info": {
   "codemirror_mode": {
    "name": "ipython",
    "version": 3
   },
   "file_extension": ".py",
   "mimetype": "text/x-python",
   "name": "python",
   "nbconvert_exporter": "python",
   "pygments_lexer": "ipython3",
   "version": "3.11.3"
  }
 },
 "nbformat": 4,
 "nbformat_minor": 5
}
