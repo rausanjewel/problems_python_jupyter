{
 "cells": [
  {
   "cell_type": "markdown",
   "metadata": {},
   "source": [
    "Oh no! Commander Lambda’s latest experiment to improve the efficiency of the LAMBCHOP doomsday device has backfired spectacularly. The Commander had been improving the structure of the ion flux converter tree, but something went terribly wrong and the flux chains exploded. Some of the ion flux converters survived the explosion intact, but others had their position labels blasted off. Commander Lambda is having her henchmen rebuild the ion flux converter tree by hand, but you think you can do it much more quickly – quickly enough, perhaps, to earn a promotion!\n",
    "\n",
    "Flux chains require perfect binary trees, so Lambda’s design arranged the ion flux converters to form one. To label them, Lambda performed a post-order traversal of the tree of converters and labeled each converter with the order of that converter in the traversal, starting at 1. For example, a tree of 7 converters would look like the following:\n",
    "\n",
    "   7\n",
    " 3   6\n",
    "1 2 4 5\n",
    "\n",
    "Write a function solution(h, q) - where h is the height of the perfect tree of converters and q is a list of positive integers representing different flux converters - which returns a list of integers p where each element in p is the label of the converter that sits on top of the respective converter in q, or -1 if there is no such converter. For example, solution(3, [1, 4, 7]) would return the converters above the converters at indexes 1, 4, and 7 in a perfect binary tree of height 3, which is [3, 6, -1].\n",
    "\n",
    "The domain of the integer h is 1 <= h <= 30, where h = 1 represents a perfect binary tree containing only the root, h = 2 represents a perfect binary tree with the root and two leaf nodes, h = 3 represents a perfect binary tree with the root, two internal nodes and four leaf nodes (like the example above), and so forth. The lists q and p contain at least one but no more than 10000 distinct integers, all of which will be between 1 and 2^h-1, inclusive.\n",
    "\n",
    "Your code should pass the following test cases. Note that it may also be run against hidden test cases not shown here.\n",
    "\n",
    "Input:\n",
    "solution.solution(3, [7, 3, 5, 1])\n",
    "Output: -1,7,6,3\n",
    "\n",
    "Input:\n",
    "solution.solution(5, [19, 14, 28])\n",
    "Output: 21,15,29"
   ]
  },
  {
   "cell_type": "code",
   "execution_count": 20,
   "metadata": {},
   "outputs": [],
   "source": [
    "\"\"\"\n",
    "Since the tree is uniform there for with a given height the tree will have a root with\n",
    "value same as the size of the tree. Therefore the base case  is if the input converter\n",
    "is the same as the root, there is no parent converter top of it and return -1. Otherwise\n",
    "a search toawards the edge can be done using the idea that the left child converter will\n",
    "always be the integer division of the root and the right child is one less than the root.\n",
    "\"\"\"\n",
    "def parentConverter(sizeOfTree,q):\n",
    "        parent=-1\n",
    "        if sizeOfTree==q:\n",
    "            return parent\n",
    "        parent=sizeOfTree\n",
    "        familySize=sizeOfTree\n",
    "        while familySize>1:\n",
    "            familySize=familySize//2\n",
    "            leftChild=parent-familySize-1\n",
    "            rightChild=parent-1\n",
    "            if leftChild==q or rightChild==q:\n",
    "                return parent\n",
    "            elif leftChild>q:\n",
    "                parent=leftChild\n",
    "            else:          \n",
    "                parent=rightChild\n",
    "        return -1\n",
    "\n",
    "def solution(h,q):\n",
    "    sizeOfTree=(2**h)-1\n",
    "    p=[]\n",
    "  \n",
    "    for i in range(len(q)):\n",
    "        p.append(parentConverter(sizeOfTree,q[i]))\n",
    "    return p"
   ]
  },
  {
   "cell_type": "code",
   "execution_count": 23,
   "metadata": {},
   "outputs": [
    {
     "data": {
      "text/plain": [
       "[15, 7, 6, 3]"
      ]
     },
     "execution_count": 23,
     "metadata": {},
     "output_type": "execute_result"
    }
   ],
   "source": [
    "solution(5,[7,3,5,1])"
   ]
  }
 ],
 "metadata": {
  "kernelspec": {
   "display_name": "Python 3",
   "language": "python",
   "name": "python3"
  },
  "language_info": {
   "codemirror_mode": {
    "name": "ipython",
    "version": 3
   },
   "file_extension": ".py",
   "mimetype": "text/x-python",
   "name": "python",
   "nbconvert_exporter": "python",
   "pygments_lexer": "ipython3",
   "version": "3.11.4"
  },
  "orig_nbformat": 4
 },
 "nbformat": 4,
 "nbformat_minor": 2
}
